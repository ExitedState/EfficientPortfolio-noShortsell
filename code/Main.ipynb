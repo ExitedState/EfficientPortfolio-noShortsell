{
 "cells": [
  {
   "cell_type": "markdown",
   "metadata": {},
   "source": [
    "###### By Phaiboon Jaradnaparatana 6434467223"
   ]
  },
  {
   "cell_type": "markdown",
   "metadata": {},
   "source": [
    "# import library and stock information"
   ]
  },
  {
   "cell_type": "code",
   "execution_count": 1,
   "metadata": {},
   "outputs": [],
   "source": [
    "import itertools\n",
    "import sys\n",
    "import numpy as np\n",
    "import pandas as pd\n",
    "import os\n",
    "\n",
    "from SolPort import StockData, ComponentsCal, SolutionComputation, stock_info # ?stock_info move to __init__ file in SolPort\n",
    "\n",
    "np.set_printoptions(threshold=sys.maxsize, linewidth=1000, precision=6, suppress=True)"
   ]
  },
  {
   "cell_type": "markdown",
   "metadata": {},
   "source": [
    "# Clean data, Calculate dividend_yield"
   ]
  },
  {
   "cell_type": "code",
   "execution_count": 2,
   "metadata": {},
   "outputs": [
    {
     "name": "stdout",
     "output_type": "stream",
     "text": [
      "         SAPPE       UNH        VZ        ENB       PTT        UL       KTB      MSFT       SAT      TSMC       SCB       JPM      Visa  META       TOP      BMWG        AP      ABBV       KBS       NVDA  Cpaxt     APPLE       AVGO        LH       SIRI       CVX        ORI       PSEC       KCE       HCA     TISCO  AMZN      ICHI         O\n",
      "2017  3.316583  1.500102  5.546715  11.800000  4.540598  3.061825  3.829787  0.658710  8.638957  2.924083  4.892368  3.490401  0.621272   0.0  3.082437  4.785343  5.369128  4.833973  3.738318  17.927171    0.0  1.394495  35.443038  6.632653   7.339450  4.883554  10.161871  11.180124  1.665973  0.299536  7.045862   0.0  0.990099  3.807989\n",
      "2018  4.300518  1.377324  5.432640  13.556485  4.709660  3.186319  6.756757  0.272123  8.196721  1.279742  4.910479  3.824092  1.015658   0.0  0.961538  3.461166  6.206897  4.405040  2.238806  10.865874    0.0  0.687715  30.486412  7.547170   4.938272  7.148795   4.341317  13.308688  2.820874  0.346942  8.754384   0.0  3.783784  4.649734\n",
      "2019  3.885714  1.115227  5.564074  10.918601  2.618844  3.565167  2.121212  0.221206  2.761855  1.255834  3.779628  2.679264  0.590297   0.0  2.626263  2.147135  5.235602  3.840473  0.000000   3.086420    0.0  0.147483  22.392546  6.250000   4.878049  5.030791   5.700935   8.561237  1.458435  0.191647  6.554433   0.0  5.000000  3.974019\n",
      "2020  2.485876  1.207137  6.429105   9.606255  6.027060  3.687375  2.372881  0.254972  7.135678  1.927483  6.031374  3.336670  0.737608   0.0  7.111111  6.956105  5.603448  3.489883  0.000000   0.654397    0.0  0.148944  30.227151  5.050505   8.522727  3.395911   4.710744  10.300429  1.156738  0.257507  7.204030   0.0  4.424779  4.680750\n",
      "2021  1.907514  1.384694  7.827381  10.695993  4.195804  3.836634  3.695652  0.211429  8.287293  1.394231  9.841995  2.944979  0.774427   0.0  4.372093  8.434213  6.194690  3.820094  9.090909   0.819252    0.0  0.148249  17.065305  6.748466  11.299435  4.181088   8.639053  12.020033  1.276867  0.265322  9.774436   0.0  7.006369  5.327412\n",
      "\n",
      "Selected stocks: [\"ENB\", \"AVGO\", \"SIRI\", \"ORI\", \"ICHI\"]\n",
      "            ENB       AVGO       SIRI        ORI      ICHI\n",
      "2017  11.800000  35.443038   7.339450  10.161871  0.990099\n",
      "2018  13.556485  30.486412   4.938272   4.341317  3.783784\n",
      "2019  10.918601  22.392546   4.878049   5.700935  5.000000\n",
      "2020   9.606255  30.227151   8.522727   4.710744  4.424779\n",
      "2021  10.695993  17.065305  11.299435   8.639053  7.006369\n"
     ]
    }
   ],
   "source": [
    "years = [2017, 2018, 2019, 2020, 2021]\n",
    "stock_data = StockData(stock_info, years)\n",
    "dividend_yield_matrix, dividend_yield_df = stock_data.calculate_dividend_yields()\n",
    "print(dividend_yield_df.to_string())\n",
    "print(f\"\"\"\\nSelected stocks: [\"ENB\", \"AVGO\", \"SIRI\", \"ORI\", \"ICHI\"]\"\"\")\n",
    "dividend_yield_df = dividend_yield_df.loc[:, [\"ENB\", \"AVGO\", \"SIRI\", \"ORI\", \"ICHI\"]]\n",
    "print(dividend_yield_df.to_string())"
   ]
  },
  {
   "cell_type": "markdown",
   "metadata": {},
   "source": [
    "## Calculate covariance matrix & bordered hessian matrix\n",
    "- Combination 5 stocks from 34 stocks\n",
    "- Calculate covariance matrix\n",
    "- Calculate bordered hessian matrix"
   ]
  },
  {
   "cell_type": "code",
   "execution_count": 3,
   "metadata": {},
   "outputs": [
    {
     "name": "stdout",
     "output_type": "stream",
     "text": [
      "Total number of combinations : 278256\n",
      "First 5 combinations :\n",
      "[['SAPPE' 'UNH' 'VZ' 'ENB' 'PTT']\n",
      " ['SAPPE' 'UNH' 'VZ' 'ENB' 'UL']\n",
      " ['SAPPE' 'UNH' 'VZ' 'ENB' 'KTB']\n",
      " ['SAPPE' 'UNH' 'VZ' 'ENB' 'MSFT']\n",
      " ['SAPPE' 'UNH' 'VZ' 'ENB' 'SAT']]\n"
     ]
    }
   ],
   "source": [
    "# Choose 5 stocks from 34 to analyze by permutation\n",
    "stocks = list(stock_info.keys())\n",
    "combinations = list(itertools.combinations(stocks, 5))\n",
    "\n",
    "print(f'Total number of combinations : {len(combinations)}')\n",
    "print(f'First 5 combinations :\\n{np.array(combinations[:5])}') "
   ]
  },
  {
   "cell_type": "code",
   "execution_count": 4,
   "metadata": {},
   "outputs": [
    {
     "name": "stderr",
     "output_type": "stream",
     "text": [
      "100%|██████████| 278256/278256 [00:19<00:00, 14066.37it/s]\n"
     ]
    }
   ],
   "source": [
    "H_matrices = {}\n",
    "\n",
    "results = ComponentsCal.run_parallel_calculations(combinations, dividend_yield_matrix, stocks)\n",
    "\n",
    "for combination, covariance_matrix, bordered_hessian in results:\n",
    "    H_matrices[combination] = (covariance_matrix, bordered_hessian)"
   ]
  },
  {
   "cell_type": "code",
   "execution_count": 5,
   "metadata": {},
   "outputs": [
    {
     "name": "stdout",
     "output_type": "stream",
     "text": [
      "H_matrices of (\"ENB\", \"AVGO\", \"LH\", \"ORI\", \"ICHI\"): \n",
      "\n",
      "first index is covariance matrix\n",
      "    second index is mean values\n",
      "        third index is bordered hessian\n",
      "      \n",
      "(array([[  2.179898,   3.592748,  -2.219955,  -0.253275,  -1.232053],\n",
      "       [  3.592748,  53.426438,  -8.146958,  -0.020412, -14.854652],\n",
      "       [ -2.219955,  -8.146958,   7.222506,   3.361118,   2.599484],\n",
      "       [ -0.253275,  -0.020412,   3.361118,   6.565637,  -1.484361],\n",
      "       [ -1.232053, -14.854652,   2.599484,  -1.484361,   4.758632]]),\n",
      " array([[  2.179898,   3.592748,  -2.219955,  -0.253275,  -1.232053,  -1.      ,   0.      ,   0.      ,   0.      ,   0.      ,   1.      ,  11.315467],\n",
      "       [  3.592748,  53.426438,  -8.146958,  -0.020412, -14.854652,   0.      ,  -1.      ,   0.      ,   0.      ,   0.      ,   1.      ,  27.12289 ],\n",
      "       [ -2.219955,  -8.146958,   7.222506,   3.361118,   2.599484,   0.      ,   0.      ,  -1.      ,   0.      ,   0.      ,   1.      ,   7.395586],\n",
      "       [ -0.253275,  -0.020412,   3.361118,   6.565637,  -1.484361,   0.      ,   0.      ,   0.      ,  -1.      ,   0.      ,   1.      ,   6.710784],\n",
      "       [ -1.232053, -14.854652,   2.599484,  -1.484361,   4.758632,   0.      ,   0.      ,   0.      ,   0.      ,  -1.      ,   1.      ,   4.241006],\n",
      "       [  1.      ,   1.      ,   1.      ,   1.      ,   1.      ,   0.      ,   0.      ,   0.      ,   0.      ,   0.      ,   0.      ,   0.      ],\n",
      "       [ 11.315467,  27.12289 ,   7.395586,   6.710784,   4.241006,   0.      ,   0.      ,   0.      ,   0.      ,   0.      ,   0.      ,   0.      ]]))\n"
     ]
    }
   ],
   "source": [
    "import pprint\n",
    "print(f\"\"\"H_matrices of (\"ENB\", \"AVGO\", \"LH\", \"ORI\", \"ICHI\"): \"\"\")\n",
    "print(f\"\"\"\n",
    "first index is covariance matrix\n",
    "    second index is mean values\n",
    "        third index is bordered hessian\n",
    "      \"\"\")\n",
    "pprint.pprint(H_matrices[(\"ENB\", \"AVGO\", \"SIRI\", \"ORI\", \"ICHI\")])"
   ]
  },
  {
   "cell_type": "code",
   "execution_count": 6,
   "metadata": {},
   "outputs": [
    {
     "name": "stderr",
     "output_type": "stream",
     "text": [
      "Processing tasks: 100%|██████████| 8904192/8904192 [03:04<00:00, 48234.55it/s]\n"
     ]
    },
    {
     "name": "stdout",
     "output_type": "stream",
     "text": [
      "Filtering out None results...\n",
      "Successfully filtered out None results!\n",
      "Filtering valid solutions... (lambda>=0, c>=0)\n"
     ]
    },
    {
     "name": "stderr",
     "output_type": "stream",
     "text": [
      "Filtering valid solutions: 100%|██████████| 278256/278256 [01:57<00:00, 2364.14it/s]\n"
     ]
    },
    {
     "name": "stdout",
     "output_type": "stream",
     "text": [
      "Successfully filtered valid solutions!\n",
      "Saving valid solutions to ../out/raw_data/valid_solutions10Percentv3.pkl...\n",
      "Solutions saved successfully\n"
     ]
    }
   ],
   "source": [
    "solutions_file = '../out/raw_data/valid_solutions10Percentv3.pkl'\n",
    "# Initialize the SolutionComputation class\n",
    "solution_computer = SolutionComputation(H_matrices, r = 10)\n",
    "\n",
    "if os.path.exists(solutions_file):\n",
    "    print(f\"Loading solutions from {solutions_file}\")\n",
    "    solution_computer.load_results(solutions_file)\n",
    "    print(\"Solutions loaded successfully\")\n",
    "else:\n",
    "    solution_computer.compute_Valid_Solutions()\n",
    "    print(f\"Saving valid solutions to {solutions_file}...\")\n",
    "    solution_computer.save_results(solutions_file)\n",
    "    print(\"Solutions saved successfully\")\n",
    "    \n",
    "valid_solutions = solution_computer.get_valid_solutions()"
   ]
  },
  {
   "cell_type": "code",
   "execution_count": 7,
   "metadata": {},
   "outputs": [
    {
     "name": "stdout",
     "output_type": "stream",
     "text": [
      "Total number of solutions: 110944\n",
      "Combination : ('ENB', 'AVGO', 'SIRI', 'ORI', 'ICHI')\n",
      "Number of solutions : 1\n",
      "Last solution :  (array([[0.209964],\n",
      "       [0.174273],\n",
      "       [0.026621],\n",
      "       [0.081767],\n",
      "       [0.507375]]), 0.46714252150862545, array([[  2.179898,   3.592748,  -2.219955,  -0.253275,  -1.232053],\n",
      "       [  3.592748,  53.426438,  -8.146958,  -0.020412, -14.854652],\n",
      "       [ -2.219955,  -8.146958,   7.222506,   3.361118,   2.599484],\n",
      "       [ -0.253275,  -0.020412,   3.361118,   6.565637,  -1.484361],\n",
      "       [ -1.232053, -14.854652,   2.599484,  -1.484361,   4.758632]]), array([[  2.179898,   3.592748,  -2.219955,  -0.253275,  -1.232053,  -1.      ,   0.      ,   0.      ,   0.      ,   0.      ,   1.      ,  11.315467],\n",
      "       [  3.592748,  53.426438,  -8.146958,  -0.020412, -14.854652,   0.      ,  -1.      ,   0.      ,   0.      ,   0.      ,   1.      ,  27.12289 ],\n",
      "       [ -2.219955,  -8.146958,   7.222506,   3.361118,   2.599484,   0.      ,   0.      ,  -1.      ,   0.      ,   0.      ,   1.      ,   7.395586],\n",
      "       [ -0.253275,  -0.020412,   3.361118,   6.565637,  -1.484361,   0.      ,   0.      ,   0.      ,  -1.      ,   0.      ,   1.      ,   6.710784],\n",
      "       [ -1.232053, -14.854652,   2.599484,  -1.484361,   4.758632,   0.      ,   0.      ,   0.      ,   0.      ,  -1.      ,   1.      ,   4.241006],\n",
      "       [  1.      ,   1.      ,   1.      ,   1.      ,   1.      ,   0.      ,   0.      ,   0.      ,   0.      ,   0.      ,   0.      ,   0.      ],\n",
      "       [ 11.315467,  27.12289 ,   7.395586,   6.710784,   4.241006,   0.      ,   0.      ,   0.      ,   0.      ,   0.      ,   0.      ,   0.      ]]), array([[  2.179898,   3.592748,  -2.219955,  -0.253275,  -1.232053,   1.      ,  11.315467],\n",
      "       [  3.592748,  53.426438,  -8.146958,  -0.020412, -14.854652,   1.      ,  27.12289 ],\n",
      "       [ -2.219955,  -8.146958,   7.222506,   3.361118,   2.599484,   1.      ,   7.395586],\n",
      "       [ -0.253275,  -0.020412,   3.361118,   6.565637,  -1.484361,   1.      ,   6.710784],\n",
      "       [ -1.232053, -14.854652,   2.599484,  -1.484361,   4.758632,   1.      ,   4.241006],\n",
      "       [  1.      ,   1.      ,   1.      ,   1.      ,   1.      ,   0.      ,   0.      ],\n",
      "       [ 11.315467,  27.12289 ,   7.395586,   6.710784,   4.241006,   0.      ,   0.      ]]), (1, 1, 1, 1, 1), array([[ 0.209964],\n",
      "       [ 0.174273],\n",
      "       [ 0.026621],\n",
      "       [ 0.081767],\n",
      "       [ 0.507375],\n",
      "       [ 1.003219],\n",
      "       [-0.122144]]), {'c1': 0.20996438069749557, 'c2': 0.17427259868754974, 'c3': 0.026620790386751487, 'c4': 0.08176695866567008, 'c5': 0.5073752715625333}, {'mu1': 1.0032192884704783, 'mu2': -0.1221441423871915})\n"
     ]
    }
   ],
   "source": [
    "print(f\"Total number of solutions: {len(valid_solutions)}\")\n",
    "# print the first solution for debugging\n",
    "for combination, solution_list in valid_solutions.items():\n",
    "    if combination == (\"ENB\", \"AVGO\", \"SIRI\", \"ORI\", \"ICHI\"):\n",
    "        print(f\"Combination : {combination}\")\n",
    "        print(f\"Number of solutions : {len(solution_list)}\")\n",
    "        print(\"Last solution : \", solution_list[-1])\n",
    "        break"
   ]
  },
  {
   "cell_type": "markdown",
   "metadata": {},
   "source": [
    "# Convert to excel file"
   ]
  },
  {
   "cell_type": "code",
   "execution_count": 8,
   "metadata": {},
   "outputs": [
    {
     "name": "stdout",
     "output_type": "stream",
     "text": [
      "                           Combination  \\\n",
      "0           (SAPPE, UNH, VZ, ENB, TOP)   \n",
      "1          (SAPPE, UNH, VZ, ENB, BMWG)   \n",
      "2           (SAPPE, UNH, VZ, ENB, KBS)   \n",
      "3          (SAPPE, UNH, VZ, ENB, NVDA)   \n",
      "4          (SAPPE, UNH, VZ, ENB, AVGO)   \n",
      "...                                ...   \n",
      "111536   (ENB, SCB, META, Cpaxt, AMZN)   \n",
      "111537   (ENB, JPM, META, Cpaxt, AMZN)   \n",
      "111538  (ENB, Visa, META, Cpaxt, AMZN)   \n",
      "111539  (ENB, Visa, META, Cpaxt, AMZN)   \n",
      "111540  (ENB, Visa, META, Cpaxt, AMZN)   \n",
      "\n",
      "                                                Portfolio      Risk  \\\n",
      "0       [[0.0], [0.0], [0.0], [0.8288217586152385], [0...  0.884618   \n",
      "1       [[0.0], [0.0], [0.13878570588027261], [0.76379...  0.976338   \n",
      "2       [[0.0], [0.0], [0.25515876213315436], [0.74484...  0.986816   \n",
      "3       [[0.0], [0.0], [0.2551587621331545], [0.744841...  0.986816   \n",
      "4       [[0.0], [0.0], [0.5418992793393675], [0.364582...  0.682524   \n",
      "...                                                   ...       ...   \n",
      "111536  [[0.7574862481422459], [0.24251375185775403], ...  1.076474   \n",
      "111537  [[0.8367985219536785], [0.16320147804632149], ...  1.282930   \n",
      "111538  [[0.8837461272741298], [0.0], [0.0], [0.0], [0...  1.304805   \n",
      "111539  [[0.8837461272741298], [0.0], [0.0], [0.116253...  1.304805   \n",
      "111540  [[0.8837461272741298], [0.0], [0.1162538727258...  1.304805   \n",
      "\n",
      "                                        Covariance_Matrix  \\\n",
      "0       [[0.9683183910391886, -0.014918337430515672, -...   \n",
      "1       [[0.9683183910391886, -0.014918337430515672, -...   \n",
      "2       [[0.9683183910391886, -0.014918337430515672, -...   \n",
      "3       [[0.9683183910391886, -0.014918337430515672, -...   \n",
      "4       [[0.9683183910391886, -0.014918337430515672, -...   \n",
      "...                                                   ...   \n",
      "111536  [[2.179897854198289, -1.132692966318054, 0.0, ...   \n",
      "111537  [[2.179897854198289, 0.41758840431356237, 0.0,...   \n",
      "111538  [[2.179897854198289, 0.150600261281662, 0.0, 0...   \n",
      "111539  [[2.179897854198289, 0.150600261281662, 0.0, 0...   \n",
      "111540  [[2.179897854198289, 0.150600261281662, 0.0, 0...   \n",
      "\n",
      "                                           Hessian Matrix  \\\n",
      "0       [[0.9683183910391886, -0.014918337430515672, -...   \n",
      "1       [[0.9683183910391886, -0.014918337430515672, -...   \n",
      "2       [[0.9683183910391886, -0.014918337430515672, -...   \n",
      "3       [[0.9683183910391886, -0.014918337430515672, -...   \n",
      "4       [[0.9683183910391886, -0.014918337430515672, -...   \n",
      "...                                                   ...   \n",
      "111536  [[2.179897854198289, -1.132692966318054, 0.0, ...   \n",
      "111537  [[2.179897854198289, 0.41758840431356237, 0.0,...   \n",
      "111538  [[2.179897854198289, 0.150600261281662, 0.0, 0...   \n",
      "111539  [[2.179897854198289, 0.150600261281662, 0.0, 0...   \n",
      "111540  [[2.179897854198289, 0.150600261281662, 0.0, 0...   \n",
      "\n",
      "                                          Hessian_reduced          ci_case  \\\n",
      "0       [[1.0679709851601176, -1.783455722355288, -1.0...  (0, 0, 0, 1, 1)   \n",
      "1       [[-0.9069621695837372, 1.0679709851601176, -2....  (0, 0, 1, 1, 1)   \n",
      "2       [[-0.9069621695837372, 1.0679709851601176, -1....  (0, 0, 1, 1, 0)   \n",
      "3       [[-0.9069621695837372, 1.0679709851601176, -1....  (0, 0, 1, 1, 0)   \n",
      "4       [[-0.9069621695837372, 1.0679709851601176, 3.0...  (0, 0, 1, 1, 1)   \n",
      "...                                                   ...              ...   \n",
      "111536  [[2.179897854198289, -1.132692966318054, 0.0, ...  (1, 1, 0, 0, 0)   \n",
      "111537  [[2.179897854198289, 0.41758840431356237, 0.0,...  (1, 1, 0, 0, 0)   \n",
      "111538  [[2.179897854198289, 0.0, 0.0, 0.0, 0.0, 1.0, ...  (1, 0, 0, 0, 1)   \n",
      "111539  [[2.179897854198289, 0.0, 0.0, 0.0, 0.0, 1.0, ...  (1, 0, 0, 1, 0)   \n",
      "111540  [[2.179897854198289, 0.0, 0.0, 0.0, 0.0, 1.0, ...  (1, 0, 1, 0, 0)   \n",
      "\n",
      "                                                x_reduced  \\\n",
      "0       [[0.8288217586152385], [0.17117824138476134], ...   \n",
      "1       [[0.13878570588027261], [0.763797325674271], [...   \n",
      "2       [[0.25515876213315436], [0.7448412378668456], ...   \n",
      "3       [[0.2551587621331545], [0.7448412378668455], [...   \n",
      "4       [[0.5418992793393675], [0.36458225069415184], ...   \n",
      "...                                                   ...   \n",
      "111536  [[0.7574862481422459], [0.24251375185775403], ...   \n",
      "111537  [[0.8367985219536785], [0.16320147804632149], ...   \n",
      "111538  [[0.8837461272741298], [0.11625387272587018], ...   \n",
      "111539  [[0.8837461272741298], [0.11625387272587018], ...   \n",
      "111540  [[0.8837461272741298], [0.11625387272587018], ...   \n",
      "\n",
      "                                                  checker  \\\n",
      "0       {'c4': 0.8288217586152385, 'c5': 0.17117824138...   \n",
      "1       {'c3': 0.13878570588027261, 'c4': 0.7637973256...   \n",
      "2       {'c3': 0.25515876213315436, 'c4': 0.7448412378...   \n",
      "3       {'c3': 0.2551587621331545, 'c4': 0.74484123786...   \n",
      "4       {'c3': 0.5418992793393675, 'c4': 0.36458225069...   \n",
      "...                                                   ...   \n",
      "111536  {'c1': 0.7574862481422459, 'c2': 0.24251375185...   \n",
      "111537  {'c1': 0.8367985219536785, 'c2': 0.16320147804...   \n",
      "111538  {'c1': 0.8837461272741298, 'c5': 0.11625387272...   \n",
      "111539  {'c1': 0.8837461272741298, 'c4': 0.11625387272...   \n",
      "111540  {'c1': 0.8837461272741298, 'c3': 0.11625387272...   \n",
      "\n",
      "                                                mu_values  \n",
      "0       {'mu1': 3.015936198359361, 'mu2': -0.379848489...  \n",
      "1       {'mu1': 2.156861465273848, 'mu2': -0.311009783...  \n",
      "2       {'mu1': 2.422674693416013, 'mu2': -0.339647984...  \n",
      "3       {'mu1': 2.422674693416017, 'mu2': -0.339647984...  \n",
      "4       {'mu1': 1.3100500922876945, 'mu2': -0.17758887...  \n",
      "...                                                   ...  \n",
      "111536  {'mu1': 0.49652267683447115, 'mu2': -0.1655319...  \n",
      "111537  {'mu1': 0.22702516548337628, 'mu2': -0.1872933...  \n",
      "111538           {'mu1': 0.0, 'mu2': -0.1702515957480638}  \n",
      "111539           {'mu1': 0.0, 'mu2': -0.1702515957480638}  \n",
      "111540           {'mu1': 0.0, 'mu2': -0.1702515957480638}  \n",
      "\n",
      "[111541 rows x 10 columns]\n"
     ]
    }
   ],
   "source": [
    "# Assuming valid_solutions is already defined\n",
    "data = []  # List to store the rows for the DataFrame\n",
    "\n",
    "for combination, solution_list in valid_solutions.items():\n",
    "    for solution in solution_list:\n",
    "        myPort = solution[0]\n",
    "        Risk = solution[1]\n",
    "        Covariance_Matrix = solution[2]\n",
    "        Hessian = solution[3]\n",
    "        Hessian_reduced = solution[4]\n",
    "        ci_case = solution[5]\n",
    "        x_reduced = solution[6]\n",
    "        checker = solution[7]\n",
    "        mu_values = solution[8]\n",
    "        data.append([combination, myPort, Risk, Covariance_Matrix, Hessian,Hessian_reduced, ci_case, x_reduced, checker, mu_values])\n",
    "# Create a DataFrame\n",
    "df_valid_solutions = pd.DataFrame(data, columns=['Combination', 'Portfolio', 'Risk', 'Covariance_Matrix', 'Hessian Matrix','Hessian_reduced', 'ci_case', 'x_reduced', 'checker', 'mu_values'])\n",
    "# Display the DataFrame\n",
    "print(df_valid_solutions)\n"
   ]
  },
  {
   "cell_type": "code",
   "execution_count": 9,
   "metadata": {},
   "outputs": [],
   "source": [
    "df_valid_solutions.to_excel('../out/Solutions10percentv3.xlsx', index=False)"
   ]
  }
 ],
 "metadata": {
  "kernelspec": {
   "display_name": "310Pytorch",
   "language": "python",
   "name": "python3"
  },
  "language_info": {
   "codemirror_mode": {
    "name": "ipython",
    "version": 3
   },
   "file_extension": ".py",
   "mimetype": "text/x-python",
   "name": "python",
   "nbconvert_exporter": "python",
   "pygments_lexer": "ipython3",
   "version": "3.10.14"
  }
 },
 "nbformat": 4,
 "nbformat_minor": 2
}
